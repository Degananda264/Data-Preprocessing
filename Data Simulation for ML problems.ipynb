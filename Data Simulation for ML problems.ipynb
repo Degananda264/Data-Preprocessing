{
 "cells": [
  {
   "cell_type": "markdown",
   "metadata": {},
   "source": [
    "# Simulation of classification data"
   ]
  },
  {
   "cell_type": "code",
   "execution_count": 47,
   "metadata": {},
   "outputs": [],
   "source": [
    "from sklearn.datasets import make_classification\n",
    "features,target=make_classification(n_samples=250,n_features=8,n_classes=4,n_informative=6,n_redundant=2,weights=[.1,.2,.3,.4])"
   ]
  },
  {
   "cell_type": "code",
   "execution_count": 48,
   "metadata": {},
   "outputs": [
    {
     "data": {
      "application/javascript": [
       "\n",
       "        if (window._pyforest_update_imports_cell) { window._pyforest_update_imports_cell('import pandas as pd'); }\n",
       "    "
      ],
      "text/plain": [
       "<IPython.core.display.Javascript object>"
      ]
     },
     "metadata": {},
     "output_type": "display_data"
    }
   ],
   "source": [
    "features=pd.DataFrame(features,columns=['a','b','c','d','e','f','g','h'])"
   ]
  },
  {
   "cell_type": "code",
   "execution_count": 49,
   "metadata": {},
   "outputs": [
    {
     "data": {
      "text/html": [
       "<div>\n",
       "<style scoped>\n",
       "    .dataframe tbody tr th:only-of-type {\n",
       "        vertical-align: middle;\n",
       "    }\n",
       "\n",
       "    .dataframe tbody tr th {\n",
       "        vertical-align: top;\n",
       "    }\n",
       "\n",
       "    .dataframe thead th {\n",
       "        text-align: right;\n",
       "    }\n",
       "</style>\n",
       "<table border=\"1\" class=\"dataframe\">\n",
       "  <thead>\n",
       "    <tr style=\"text-align: right;\">\n",
       "      <th></th>\n",
       "      <th>a</th>\n",
       "      <th>b</th>\n",
       "      <th>c</th>\n",
       "      <th>d</th>\n",
       "      <th>e</th>\n",
       "      <th>f</th>\n",
       "      <th>g</th>\n",
       "      <th>h</th>\n",
       "    </tr>\n",
       "  </thead>\n",
       "  <tbody>\n",
       "    <tr>\n",
       "      <th>0</th>\n",
       "      <td>-0.685028</td>\n",
       "      <td>-3.245067</td>\n",
       "      <td>-0.511479</td>\n",
       "      <td>1.657118</td>\n",
       "      <td>2.437610</td>\n",
       "      <td>-0.448639</td>\n",
       "      <td>-1.179360</td>\n",
       "      <td>-2.320119</td>\n",
       "    </tr>\n",
       "    <tr>\n",
       "      <th>1</th>\n",
       "      <td>3.122040</td>\n",
       "      <td>-0.494606</td>\n",
       "      <td>1.361975</td>\n",
       "      <td>-3.373628</td>\n",
       "      <td>4.856271</td>\n",
       "      <td>-2.546225</td>\n",
       "      <td>-2.224592</td>\n",
       "      <td>-2.073365</td>\n",
       "    </tr>\n",
       "    <tr>\n",
       "      <th>2</th>\n",
       "      <td>0.314606</td>\n",
       "      <td>-0.916214</td>\n",
       "      <td>1.336744</td>\n",
       "      <td>2.092683</td>\n",
       "      <td>-1.141663</td>\n",
       "      <td>-0.958037</td>\n",
       "      <td>1.616733</td>\n",
       "      <td>0.550336</td>\n",
       "    </tr>\n",
       "    <tr>\n",
       "      <th>3</th>\n",
       "      <td>2.187511</td>\n",
       "      <td>0.524603</td>\n",
       "      <td>-1.278161</td>\n",
       "      <td>1.170899</td>\n",
       "      <td>-2.097036</td>\n",
       "      <td>-1.973635</td>\n",
       "      <td>0.262040</td>\n",
       "      <td>0.576643</td>\n",
       "    </tr>\n",
       "    <tr>\n",
       "      <th>4</th>\n",
       "      <td>3.507553</td>\n",
       "      <td>-1.525649</td>\n",
       "      <td>0.289554</td>\n",
       "      <td>3.364085</td>\n",
       "      <td>-6.833043</td>\n",
       "      <td>-1.106444</td>\n",
       "      <td>4.111883</td>\n",
       "      <td>0.704462</td>\n",
       "    </tr>\n",
       "  </tbody>\n",
       "</table>\n",
       "</div>"
      ],
      "text/plain": [
       "          a         b         c         d         e         f         g  \\\n",
       "0 -0.685028 -3.245067 -0.511479  1.657118  2.437610 -0.448639 -1.179360   \n",
       "1  3.122040 -0.494606  1.361975 -3.373628  4.856271 -2.546225 -2.224592   \n",
       "2  0.314606 -0.916214  1.336744  2.092683 -1.141663 -0.958037  1.616733   \n",
       "3  2.187511  0.524603 -1.278161  1.170899 -2.097036 -1.973635  0.262040   \n",
       "4  3.507553 -1.525649  0.289554  3.364085 -6.833043 -1.106444  4.111883   \n",
       "\n",
       "          h  \n",
       "0 -2.320119  \n",
       "1 -2.073365  \n",
       "2  0.550336  \n",
       "3  0.576643  \n",
       "4  0.704462  "
      ]
     },
     "execution_count": 49,
     "metadata": {},
     "output_type": "execute_result"
    }
   ],
   "source": [
    "features.head()"
   ]
  },
  {
   "cell_type": "code",
   "execution_count": 50,
   "metadata": {},
   "outputs": [
    {
     "data": {
      "application/javascript": [
       "\n",
       "        if (window._pyforest_update_imports_cell) { window._pyforest_update_imports_cell('import pandas as pd'); }\n",
       "    "
      ],
      "text/plain": [
       "<IPython.core.display.Javascript object>"
      ]
     },
     "metadata": {},
     "output_type": "display_data"
    }
   ],
   "source": [
    "target=pd.DataFrame(target,columns=['target'])"
   ]
  },
  {
   "cell_type": "code",
   "execution_count": 51,
   "metadata": {},
   "outputs": [
    {
     "data": {
      "text/html": [
       "<div>\n",
       "<style scoped>\n",
       "    .dataframe tbody tr th:only-of-type {\n",
       "        vertical-align: middle;\n",
       "    }\n",
       "\n",
       "    .dataframe tbody tr th {\n",
       "        vertical-align: top;\n",
       "    }\n",
       "\n",
       "    .dataframe thead th {\n",
       "        text-align: right;\n",
       "    }\n",
       "</style>\n",
       "<table border=\"1\" class=\"dataframe\">\n",
       "  <thead>\n",
       "    <tr style=\"text-align: right;\">\n",
       "      <th></th>\n",
       "      <th>target</th>\n",
       "    </tr>\n",
       "  </thead>\n",
       "  <tbody>\n",
       "    <tr>\n",
       "      <th>0</th>\n",
       "      <td>3</td>\n",
       "    </tr>\n",
       "    <tr>\n",
       "      <th>1</th>\n",
       "      <td>3</td>\n",
       "    </tr>\n",
       "    <tr>\n",
       "      <th>2</th>\n",
       "      <td>3</td>\n",
       "    </tr>\n",
       "    <tr>\n",
       "      <th>3</th>\n",
       "      <td>0</td>\n",
       "    </tr>\n",
       "    <tr>\n",
       "      <th>4</th>\n",
       "      <td>3</td>\n",
       "    </tr>\n",
       "  </tbody>\n",
       "</table>\n",
       "</div>"
      ],
      "text/plain": [
       "   target\n",
       "0       3\n",
       "1       3\n",
       "2       3\n",
       "3       0\n",
       "4       3"
      ]
     },
     "execution_count": 51,
     "metadata": {},
     "output_type": "execute_result"
    }
   ],
   "source": [
    "target.head()"
   ]
  },
  {
   "cell_type": "code",
   "execution_count": 54,
   "metadata": {},
   "outputs": [
    {
     "data": {
      "application/javascript": [
       "\n",
       "        if (window._pyforest_update_imports_cell) { window._pyforest_update_imports_cell('import pandas as pd'); }\n",
       "    "
      ],
      "text/plain": [
       "<IPython.core.display.Javascript object>"
      ]
     },
     "metadata": {},
     "output_type": "display_data"
    }
   ],
   "source": [
    "class_data=pd.concat([features,target],axis=1)"
   ]
  },
  {
   "cell_type": "code",
   "execution_count": 64,
   "metadata": {},
   "outputs": [
    {
     "data": {
      "text/html": [
       "<div>\n",
       "<style scoped>\n",
       "    .dataframe tbody tr th:only-of-type {\n",
       "        vertical-align: middle;\n",
       "    }\n",
       "\n",
       "    .dataframe tbody tr th {\n",
       "        vertical-align: top;\n",
       "    }\n",
       "\n",
       "    .dataframe thead th {\n",
       "        text-align: right;\n",
       "    }\n",
       "</style>\n",
       "<table border=\"1\" class=\"dataframe\">\n",
       "  <thead>\n",
       "    <tr style=\"text-align: right;\">\n",
       "      <th></th>\n",
       "      <th>a</th>\n",
       "      <th>b</th>\n",
       "      <th>c</th>\n",
       "      <th>d</th>\n",
       "      <th>e</th>\n",
       "      <th>f</th>\n",
       "      <th>g</th>\n",
       "      <th>h</th>\n",
       "      <th>target</th>\n",
       "    </tr>\n",
       "  </thead>\n",
       "  <tbody>\n",
       "    <tr>\n",
       "      <th>0</th>\n",
       "      <td>-0.685028</td>\n",
       "      <td>-3.245067</td>\n",
       "      <td>-0.511479</td>\n",
       "      <td>1.657118</td>\n",
       "      <td>2.437610</td>\n",
       "      <td>-0.448639</td>\n",
       "      <td>-1.179360</td>\n",
       "      <td>-2.320119</td>\n",
       "      <td>3</td>\n",
       "    </tr>\n",
       "    <tr>\n",
       "      <th>1</th>\n",
       "      <td>3.122040</td>\n",
       "      <td>-0.494606</td>\n",
       "      <td>1.361975</td>\n",
       "      <td>-3.373628</td>\n",
       "      <td>4.856271</td>\n",
       "      <td>-2.546225</td>\n",
       "      <td>-2.224592</td>\n",
       "      <td>-2.073365</td>\n",
       "      <td>3</td>\n",
       "    </tr>\n",
       "    <tr>\n",
       "      <th>2</th>\n",
       "      <td>0.314606</td>\n",
       "      <td>-0.916214</td>\n",
       "      <td>1.336744</td>\n",
       "      <td>2.092683</td>\n",
       "      <td>-1.141663</td>\n",
       "      <td>-0.958037</td>\n",
       "      <td>1.616733</td>\n",
       "      <td>0.550336</td>\n",
       "      <td>3</td>\n",
       "    </tr>\n",
       "    <tr>\n",
       "      <th>3</th>\n",
       "      <td>2.187511</td>\n",
       "      <td>0.524603</td>\n",
       "      <td>-1.278161</td>\n",
       "      <td>1.170899</td>\n",
       "      <td>-2.097036</td>\n",
       "      <td>-1.973635</td>\n",
       "      <td>0.262040</td>\n",
       "      <td>0.576643</td>\n",
       "      <td>0</td>\n",
       "    </tr>\n",
       "    <tr>\n",
       "      <th>4</th>\n",
       "      <td>3.507553</td>\n",
       "      <td>-1.525649</td>\n",
       "      <td>0.289554</td>\n",
       "      <td>3.364085</td>\n",
       "      <td>-6.833043</td>\n",
       "      <td>-1.106444</td>\n",
       "      <td>4.111883</td>\n",
       "      <td>0.704462</td>\n",
       "      <td>3</td>\n",
       "    </tr>\n",
       "  </tbody>\n",
       "</table>\n",
       "</div>"
      ],
      "text/plain": [
       "          a         b         c         d         e         f         g  \\\n",
       "0 -0.685028 -3.245067 -0.511479  1.657118  2.437610 -0.448639 -1.179360   \n",
       "1  3.122040 -0.494606  1.361975 -3.373628  4.856271 -2.546225 -2.224592   \n",
       "2  0.314606 -0.916214  1.336744  2.092683 -1.141663 -0.958037  1.616733   \n",
       "3  2.187511  0.524603 -1.278161  1.170899 -2.097036 -1.973635  0.262040   \n",
       "4  3.507553 -1.525649  0.289554  3.364085 -6.833043 -1.106444  4.111883   \n",
       "\n",
       "          h  target  \n",
       "0 -2.320119       3  \n",
       "1 -2.073365       3  \n",
       "2  0.550336       3  \n",
       "3  0.576643       0  \n",
       "4  0.704462       3  "
      ]
     },
     "execution_count": 64,
     "metadata": {},
     "output_type": "execute_result"
    }
   ],
   "source": [
    "class_data.head()"
   ]
  },
  {
   "cell_type": "markdown",
   "metadata": {},
   "source": [
    "# Simulation of Regression data"
   ]
  },
  {
   "cell_type": "code",
   "execution_count": 56,
   "metadata": {},
   "outputs": [],
   "source": [
    "from sklearn.datasets import make_regression"
   ]
  },
  {
   "cell_type": "code",
   "execution_count": 57,
   "metadata": {},
   "outputs": [],
   "source": [
    "features_regr,target_regr=make_regression(n_samples=250,n_features=5)"
   ]
  },
  {
   "cell_type": "code",
   "execution_count": 58,
   "metadata": {},
   "outputs": [
    {
     "data": {
      "application/javascript": [
       "\n",
       "        if (window._pyforest_update_imports_cell) { window._pyforest_update_imports_cell('import pandas as pd'); }\n",
       "    "
      ],
      "text/plain": [
       "<IPython.core.display.Javascript object>"
      ]
     },
     "metadata": {},
     "output_type": "display_data"
    }
   ],
   "source": [
    "features_regr=pd.DataFrame(features_regr,columns=['a','b','c','d','e'])"
   ]
  },
  {
   "cell_type": "code",
   "execution_count": 59,
   "metadata": {},
   "outputs": [
    {
     "data": {
      "text/html": [
       "<div>\n",
       "<style scoped>\n",
       "    .dataframe tbody tr th:only-of-type {\n",
       "        vertical-align: middle;\n",
       "    }\n",
       "\n",
       "    .dataframe tbody tr th {\n",
       "        vertical-align: top;\n",
       "    }\n",
       "\n",
       "    .dataframe thead th {\n",
       "        text-align: right;\n",
       "    }\n",
       "</style>\n",
       "<table border=\"1\" class=\"dataframe\">\n",
       "  <thead>\n",
       "    <tr style=\"text-align: right;\">\n",
       "      <th></th>\n",
       "      <th>a</th>\n",
       "      <th>b</th>\n",
       "      <th>c</th>\n",
       "      <th>d</th>\n",
       "      <th>e</th>\n",
       "    </tr>\n",
       "  </thead>\n",
       "  <tbody>\n",
       "    <tr>\n",
       "      <th>0</th>\n",
       "      <td>-0.349308</td>\n",
       "      <td>-1.153477</td>\n",
       "      <td>0.613879</td>\n",
       "      <td>-0.837420</td>\n",
       "      <td>-0.358345</td>\n",
       "    </tr>\n",
       "    <tr>\n",
       "      <th>1</th>\n",
       "      <td>1.066323</td>\n",
       "      <td>-0.096086</td>\n",
       "      <td>0.789900</td>\n",
       "      <td>-0.413877</td>\n",
       "      <td>-0.405303</td>\n",
       "    </tr>\n",
       "    <tr>\n",
       "      <th>2</th>\n",
       "      <td>0.462512</td>\n",
       "      <td>0.014256</td>\n",
       "      <td>0.470116</td>\n",
       "      <td>-0.787898</td>\n",
       "      <td>-0.493413</td>\n",
       "    </tr>\n",
       "    <tr>\n",
       "      <th>3</th>\n",
       "      <td>0.582327</td>\n",
       "      <td>-1.080292</td>\n",
       "      <td>0.140081</td>\n",
       "      <td>-0.724153</td>\n",
       "      <td>-0.090659</td>\n",
       "    </tr>\n",
       "    <tr>\n",
       "      <th>4</th>\n",
       "      <td>2.292054</td>\n",
       "      <td>0.492245</td>\n",
       "      <td>0.598420</td>\n",
       "      <td>0.026962</td>\n",
       "      <td>-1.407050</td>\n",
       "    </tr>\n",
       "  </tbody>\n",
       "</table>\n",
       "</div>"
      ],
      "text/plain": [
       "          a         b         c         d         e\n",
       "0 -0.349308 -1.153477  0.613879 -0.837420 -0.358345\n",
       "1  1.066323 -0.096086  0.789900 -0.413877 -0.405303\n",
       "2  0.462512  0.014256  0.470116 -0.787898 -0.493413\n",
       "3  0.582327 -1.080292  0.140081 -0.724153 -0.090659\n",
       "4  2.292054  0.492245  0.598420  0.026962 -1.407050"
      ]
     },
     "execution_count": 59,
     "metadata": {},
     "output_type": "execute_result"
    }
   ],
   "source": [
    "features_regr.head()"
   ]
  },
  {
   "cell_type": "code",
   "execution_count": 60,
   "metadata": {},
   "outputs": [
    {
     "data": {
      "application/javascript": [
       "\n",
       "        if (window._pyforest_update_imports_cell) { window._pyforest_update_imports_cell('import pandas as pd'); }\n",
       "    "
      ],
      "text/plain": [
       "<IPython.core.display.Javascript object>"
      ]
     },
     "metadata": {},
     "output_type": "display_data"
    }
   ],
   "source": [
    "target_regr=pd.DataFrame(target_regr,columns=['target'])"
   ]
  },
  {
   "cell_type": "code",
   "execution_count": 61,
   "metadata": {},
   "outputs": [
    {
     "data": {
      "text/html": [
       "<div>\n",
       "<style scoped>\n",
       "    .dataframe tbody tr th:only-of-type {\n",
       "        vertical-align: middle;\n",
       "    }\n",
       "\n",
       "    .dataframe tbody tr th {\n",
       "        vertical-align: top;\n",
       "    }\n",
       "\n",
       "    .dataframe thead th {\n",
       "        text-align: right;\n",
       "    }\n",
       "</style>\n",
       "<table border=\"1\" class=\"dataframe\">\n",
       "  <thead>\n",
       "    <tr style=\"text-align: right;\">\n",
       "      <th></th>\n",
       "      <th>target</th>\n",
       "    </tr>\n",
       "  </thead>\n",
       "  <tbody>\n",
       "    <tr>\n",
       "      <th>0</th>\n",
       "      <td>-139.533233</td>\n",
       "    </tr>\n",
       "    <tr>\n",
       "      <th>1</th>\n",
       "      <td>47.423403</td>\n",
       "    </tr>\n",
       "    <tr>\n",
       "      <th>2</th>\n",
       "      <td>-6.628464</td>\n",
       "    </tr>\n",
       "    <tr>\n",
       "      <th>3</th>\n",
       "      <td>-113.139300</td>\n",
       "    </tr>\n",
       "    <tr>\n",
       "      <th>4</th>\n",
       "      <td>112.957402</td>\n",
       "    </tr>\n",
       "  </tbody>\n",
       "</table>\n",
       "</div>"
      ],
      "text/plain": [
       "       target\n",
       "0 -139.533233\n",
       "1   47.423403\n",
       "2   -6.628464\n",
       "3 -113.139300\n",
       "4  112.957402"
      ]
     },
     "execution_count": 61,
     "metadata": {},
     "output_type": "execute_result"
    }
   ],
   "source": [
    "target_regr.head()"
   ]
  },
  {
   "cell_type": "code",
   "execution_count": 62,
   "metadata": {},
   "outputs": [
    {
     "data": {
      "application/javascript": [
       "\n",
       "        if (window._pyforest_update_imports_cell) { window._pyforest_update_imports_cell('import pandas as pd'); }\n",
       "    "
      ],
      "text/plain": [
       "<IPython.core.display.Javascript object>"
      ]
     },
     "metadata": {},
     "output_type": "display_data"
    }
   ],
   "source": [
    "regre_data=pd.concat([features_regr,target_regr],axis=1)"
   ]
  },
  {
   "cell_type": "code",
   "execution_count": 63,
   "metadata": {},
   "outputs": [
    {
     "data": {
      "text/html": [
       "<div>\n",
       "<style scoped>\n",
       "    .dataframe tbody tr th:only-of-type {\n",
       "        vertical-align: middle;\n",
       "    }\n",
       "\n",
       "    .dataframe tbody tr th {\n",
       "        vertical-align: top;\n",
       "    }\n",
       "\n",
       "    .dataframe thead th {\n",
       "        text-align: right;\n",
       "    }\n",
       "</style>\n",
       "<table border=\"1\" class=\"dataframe\">\n",
       "  <thead>\n",
       "    <tr style=\"text-align: right;\">\n",
       "      <th></th>\n",
       "      <th>a</th>\n",
       "      <th>b</th>\n",
       "      <th>c</th>\n",
       "      <th>d</th>\n",
       "      <th>e</th>\n",
       "      <th>target</th>\n",
       "    </tr>\n",
       "  </thead>\n",
       "  <tbody>\n",
       "    <tr>\n",
       "      <th>0</th>\n",
       "      <td>-0.349308</td>\n",
       "      <td>-1.153477</td>\n",
       "      <td>0.613879</td>\n",
       "      <td>-0.837420</td>\n",
       "      <td>-0.358345</td>\n",
       "      <td>-139.533233</td>\n",
       "    </tr>\n",
       "    <tr>\n",
       "      <th>1</th>\n",
       "      <td>1.066323</td>\n",
       "      <td>-0.096086</td>\n",
       "      <td>0.789900</td>\n",
       "      <td>-0.413877</td>\n",
       "      <td>-0.405303</td>\n",
       "      <td>47.423403</td>\n",
       "    </tr>\n",
       "    <tr>\n",
       "      <th>2</th>\n",
       "      <td>0.462512</td>\n",
       "      <td>0.014256</td>\n",
       "      <td>0.470116</td>\n",
       "      <td>-0.787898</td>\n",
       "      <td>-0.493413</td>\n",
       "      <td>-6.628464</td>\n",
       "    </tr>\n",
       "    <tr>\n",
       "      <th>3</th>\n",
       "      <td>0.582327</td>\n",
       "      <td>-1.080292</td>\n",
       "      <td>0.140081</td>\n",
       "      <td>-0.724153</td>\n",
       "      <td>-0.090659</td>\n",
       "      <td>-113.139300</td>\n",
       "    </tr>\n",
       "    <tr>\n",
       "      <th>4</th>\n",
       "      <td>2.292054</td>\n",
       "      <td>0.492245</td>\n",
       "      <td>0.598420</td>\n",
       "      <td>0.026962</td>\n",
       "      <td>-1.407050</td>\n",
       "      <td>112.957402</td>\n",
       "    </tr>\n",
       "  </tbody>\n",
       "</table>\n",
       "</div>"
      ],
      "text/plain": [
       "          a         b         c         d         e      target\n",
       "0 -0.349308 -1.153477  0.613879 -0.837420 -0.358345 -139.533233\n",
       "1  1.066323 -0.096086  0.789900 -0.413877 -0.405303   47.423403\n",
       "2  0.462512  0.014256  0.470116 -0.787898 -0.493413   -6.628464\n",
       "3  0.582327 -1.080292  0.140081 -0.724153 -0.090659 -113.139300\n",
       "4  2.292054  0.492245  0.598420  0.026962 -1.407050  112.957402"
      ]
     },
     "execution_count": 63,
     "metadata": {},
     "output_type": "execute_result"
    }
   ],
   "source": [
    "regre_data.head()"
   ]
  },
  {
   "cell_type": "markdown",
   "metadata": {},
   "source": [
    "# Simulation of Clustering data"
   ]
  },
  {
   "cell_type": "code",
   "execution_count": 79,
   "metadata": {},
   "outputs": [],
   "source": [
    "from sklearn.datasets import make_blobs"
   ]
  },
  {
   "cell_type": "code",
   "execution_count": 100,
   "metadata": {},
   "outputs": [],
   "source": [
    "clust_features,clust_target=make_blobs(n_samples=250,n_features=4,centers=4,cluster_std=0.5,shuffle=True)"
   ]
  },
  {
   "cell_type": "code",
   "execution_count": 101,
   "metadata": {},
   "outputs": [],
   "source": [
    "import matplotlib.pyplot as plt"
   ]
  },
  {
   "cell_type": "code",
   "execution_count": 102,
   "metadata": {},
   "outputs": [
    {
     "data": {
      "text/plain": [
       "<matplotlib.collections.PathCollection at 0x14bb4e640b8>"
      ]
     },
     "execution_count": 102,
     "metadata": {},
     "output_type": "execute_result"
    },
    {
     "data": {
      "image/png": "[encoded data removed]",
      "text/plain": [
       "<Figure size 432x288 with 1 Axes>"
      ]
     },
     "metadata": {
      "needs_background": "light"
     },
     "output_type": "display_data"
    }
   ],
   "source": [
    "plt.scatter(clust_features[:,0],clust_features[:,1],clust_features[:,2],clust_features[:,3])"
   ]
  },
  {
   "cell_type": "code",
   "execution_count": null,
   "metadata": {},
   "outputs": [],
   "source": []
  }
 ],
 "metadata": {
  "kernelspec": {
   "display_name": "Python 3",
   "language": "python",
   "name": "python3"
  },
  "language_info": {
   "codemirror_mode": {
    "name": "ipython",
    "version": 3
   },
   "file_extension": ".py",
   "mimetype": "text/x-python",
   "name": "python",
   "nbconvert_exporter": "python",
   "pygments_lexer": "ipython3",
   "version": "3.7.3"
  }
 },
 "nbformat": 4,
 "nbformat_minor": 2
}
