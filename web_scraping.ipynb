{
  "nbformat": 4,
  "nbformat_minor": 0,
  "metadata": {
    "colab": {
      "name": "web scraping.ipynb",
      "provenance": [],
      "authorship_tag": "ABX9TyM2x52LZyEoZE2G9SDfhxay",
      "include_colab_link": true
    },
    "kernelspec": {
      "name": "python3",
      "display_name": "Python 3"
    }
  },
  "cells": [
    {
      "cell_type": "markdown",
      "metadata": {
        "id": "view-in-github",
        "colab_type": "text"
      },
      "source": [
        "<a href=\"https://colab.research.google.com/github/Degananda264/Data-Preprocessing/blob/master/web_scraping.ipynb\" target=\"_parent\"><img src=\"https://colab.research.google.com/assets/colab-badge.svg\" alt=\"Open In Colab\"/></a>"
      ]
    },
    {
      "cell_type": "code",
      "metadata": {
        "id": "hysyq4MT4qNT",
        "colab_type": "code",
        "colab": {}
      },
      "source": [
        "import bs4 as bs\n",
        "import urllib.request"
      ],
      "execution_count": 1,
      "outputs": []
    },
    {
      "cell_type": "code",
      "metadata": {
        "id": "TH62BZ0S5GjJ",
        "colab_type": "code",
        "colab": {}
      },
      "source": [
        "src=urllib.request.urlopen(\"https://www.nytimes.com/\").read()"
      ],
      "execution_count": 2,
      "outputs": []
    },
    {
      "cell_type": "code",
      "metadata": {
        "id": "IZ6EfUyG5Wro",
        "colab_type": "code",
        "colab": {}
      },
      "source": [
        "bsoup=bs.BeautifulSoup(src,'lxml')"
      ],
      "execution_count": 3,
      "outputs": []
    },
    {
      "cell_type": "code",
      "metadata": {
        "id": "kXWyzE-65cPI",
        "colab_type": "code",
        "colab": {
          "base_uri": "https://localhost:8080/",
          "height": 34
        },
        "outputId": "edb2153b-16ce-434c-9ff2-7a03a688568f"
      },
      "source": [
        "bsoup.title"
      ],
      "execution_count": 5,
      "outputs": [
        {
          "output_type": "execute_result",
          "data": {
            "text/plain": [
              "<title data-rh=\"true\">The New York Times - Breaking News, World News &amp; Multimedia</title>"
            ]
          },
          "metadata": {
            "tags": []
          },
          "execution_count": 5
        }
      ]
    },
    {
      "cell_type": "code",
      "metadata": {
        "id": "C5VfGvQ15dYG",
        "colab_type": "code",
        "colab": {
          "base_uri": "https://localhost:8080/",
          "height": 34
        },
        "outputId": "90a50e3d-e0aa-406a-b566-684a2aa87543"
      },
      "source": [
        "bsoup.title.text"
      ],
      "execution_count": 6,
      "outputs": [
        {
          "output_type": "execute_result",
          "data": {
            "text/plain": [
              "'The New York Times - Breaking News, World News & Multimedia'"
            ]
          },
          "metadata": {
            "tags": []
          },
          "execution_count": 6
        }
      ]
    },
    {
      "cell_type": "code",
      "metadata": {
        "id": "-tTOifOM5tFt",
        "colab_type": "code",
        "colab": {
          "base_uri": "https://localhost:8080/",
          "height": 1000
        },
        "outputId": "9f6deaab-65e5-4bab-c594-32b7c31ff244"
      },
      "source": [
        "for link in bsoup.find_all('a'):\n",
        "  print(link.get('href'))"
      ],
      "execution_count": 9,
      "outputs": [
        {
          "output_type": "stream",
          "text": [
            "#after-dfp-ad-top\n",
            "#site-content\n",
            "#site-index\n",
            "/\n",
            "/\n",
            "https://www.nytimes.com/es/\n",
            "https://cn.nytimes.com\n",
            "https://myaccount.nytimes.com/auth/login?response_type=cookie&client_id=vi\n",
            "https://www.nytimes.com/section/todayspaper\n",
            "/\n",
            "/\n",
            "https://www.nytimes.com/section/world\n",
            "https://www.nytimes.com/section/us\n",
            "https://www.nytimes.com/section/politics\n",
            "https://www.nytimes.com/section/nyregion\n",
            "https://www.nytimes.com/section/business\n",
            "https://www.nytimes.com/section/opinion\n",
            "https://www.nytimes.com/section/technology\n",
            "https://www.nytimes.com/section/science\n",
            "https://www.nytimes.com/section/health\n",
            "https://www.nytimes.com/section/sports\n",
            "https://www.nytimes.com/section/arts\n",
            "https://www.nytimes.com/section/books\n",
            "https://www.nytimes.com/section/style\n",
            "https://www.nytimes.com/section/food\n",
            "https://www.nytimes.com/section/travel\n",
            "https://www.nytimes.com/section/magazine\n",
            "https://www.nytimes.com/section/t-magazine\n",
            "https://www.nytimes.com/section/realestate\n",
            "https://www.nytimes.com/video\n",
            "https://www.nytimes.com/section/world\n",
            "https://www.nytimes.com/section/us\n",
            "https://www.nytimes.com/section/politics\n",
            "https://www.nytimes.com/section/nyregion\n",
            "https://www.nytimes.com/section/business\n",
            "https://www.nytimes.com/section/opinion\n",
            "https://www.nytimes.com/section/technology\n",
            "https://www.nytimes.com/section/science\n",
            "https://www.nytimes.com/section/health\n",
            "https://www.nytimes.com/section/sports\n",
            "https://www.nytimes.com/section/arts\n",
            "https://www.nytimes.com/section/books\n",
            "https://www.nytimes.com/section/style\n",
            "https://www.nytimes.com/section/food\n",
            "https://www.nytimes.com/section/travel\n",
            "https://www.nytimes.com/section/magazine\n",
            "https://www.nytimes.com/section/t-magazine\n",
            "https://www.nytimes.com/section/realestate\n",
            "https://www.nytimes.com/video\n",
            "/2020/06/25/podcasts/the-daily/biden-poll-trump-election-2020.html\n",
            "/2020/06/25/podcasts/the-daily/biden-poll-trump-election-2020.html\n",
            "/2020/06/24/technology/internet-middlemen.html\n",
            "/2020/06/24/technology/internet-middlemen.html\n",
            "/2020/06/18/books/review/andre-leon-talley-chiffon-trenches-claudia-rankine-jericho-brown-megha-majumdar-burning.html\n",
            "/2020/06/18/books/review/andre-leon-talley-chiffon-trenches-claudia-rankine-jericho-brown-megha-majumdar-burning.html\n",
            "/interactive/2020/us/coronavirus-spread.html\n",
            "/interactive/2020/us/coronavirus-spread.html\n",
            "/2020/06/25/world/coronavirus-updates.html\n",
            "/2020/06/25/business/stock-market-today-coronavirus.html\n",
            "/2020/06/25/upshot/virus-testing-shortfall-arizona.html\n",
            "/2020/06/25/upshot/virus-testing-shortfall-arizona.html\n",
            "/2020/06/24/us/coronavirus-texas-abbott-masks.html\n",
            "/2020/06/24/world/europe/vaccine-repurposing-polio-coronavirus.html\n",
            "https://www.nytimes.com/interactive/2020/us/coronavirus-us-cases.html\n",
            "https://www.nytimes.com/interactive/2020/us/coronavirus-us-cases.html\n",
            "https://www.nytimes.com/interactive/2020/us/coronavirus-us-cases.html\n",
            "https://www.nytimes.com/interactive/2020/us/coronavirus-us-cases.html\n",
            "https://www.nytimes.com/interactive/2020/us/montana-coronavirus-cases.html\n",
            "https://www.nytimes.com/interactive/2020/us/idaho-coronavirus-cases.html\n",
            "https://www.nytimes.com/interactive/2020/us/oklahoma-coronavirus-cases.html\n",
            "https://www.nytimes.com/interactive/2020/us/florida-coronavirus-cases.html\n",
            "https://www.nytimes.com/interactive/2020/us/texas-coronavirus-cases.html\n",
            "https://www.nytimes.com/interactive/2020/us/west-virginia-coronavirus-cases.html\n",
            "https://www.nytimes.com/interactive/2020/us/illinois-coronavirus-cases.html\n",
            "https://www.nytimes.com/interactive/2020/us/new-jersey-coronavirus-cases.html\n",
            "https://www.nytimes.com/interactive/2020/us/massachusetts-coronavirus-cases.html\n",
            "https://www.nytimes.com/interactive/2020/us/maryland-coronavirus-cases.html\n",
            "https://www.nytimes.com/interactive/2020/us/new-hampshire-coronavirus-cases.html\n",
            "https://www.nytimes.com/interactive/2020/us/connecticut-coronavirus-cases.html\n",
            "https://www.nytimes.com/interactive/2020/us/coronavirus-us-cases.html\n",
            "https://www.nytimes.com/interactive/2020/world/coronavirus-maps.html\n",
            "/video/us/100000007174941/philadelphia-tear-gas-george-floyd-protests.html\n",
            "/video/us/100000007174941/philadelphia-tear-gas-george-floyd-protests.html\n",
            "/2020/06/24/us/tucson-police-carlos-ingram-lopez-death.html\n",
            "/2020/06/24/sports/autoracing/bubba-wallace-noose-nascar.html\n",
            "/2020/06/24/arts/design/theodore-roosevelt-statue.html\n",
            "/2020/06/25/us/historic-statues-monuments-descendants.html\n",
            "/2020/06/25/upshot/poll-2020-biden-battlegrounds.html\n",
            "/2020/06/25/upshot/poll-2020-biden-battlegrounds.html\n",
            "/2020/06/25/us/politics/trump-senate-republicans-poll.html\n",
            "/2020/06/24/us/politics/november-2020-election-day-results.html\n",
            "/2020/06/25/sports/ncaafootball/college-football-coronavirus-cases.html\n",
            "/2020/06/25/nyregion/how-these-students-lost-and-recaptured-the-magic-of-senior-year.html\n",
            "/2020/06/25/nyregion/how-these-students-lost-and-recaptured-the-magic-of-senior-year.html\n",
            "/2020/06/25/nyregion/how-these-students-lost-and-recaptured-the-magic-of-senior-year.html\n",
            "/2020/06/25/nyregion/fireworks-nyc-conspiracy.html\n",
            "/2020/06/25/nyregion/fireworks-nyc-conspiracy.html\n",
            "https://www.nytimes.com/section/opinion?pagetype=Homepage&action=click&module=Opinion\n",
            "/2020/06/24/opinion/trump-coronavirus.html\n",
            "/2020/06/24/opinion/trump-coronavirus.html#commentsContainer\n",
            "/2020/06/25/opinion/race-wage-gap.html\n",
            "/2020/06/25/opinion/race-wage-gap.html\n",
            "/2020/06/25/opinion/trump-biden-senior-voters.html\n",
            "/2020/06/25/opinion/corporate-profit-sharing-inequality.html\n",
            "/2020/06/25/opinion/coronavirus-remote-work-gender-gap.html\n",
            "/2020/06/25/opinion/the-argument-biden-vice-president-supreme-court.html\n",
            "/2020/06/25/opinion/black-lives-matter-corporations.html\n",
            "/2020/06/24/opinion/trump-tulsa-2020.html\n",
            "/2020/06/24/opinion/trump-coronavirus-deaths.html\n",
            "/2020/06/25/opinion/china-coronavirus-traditional-medicine.html\n",
            "/2020/06/25/opinion/coronavirus-school-grades.html\n",
            "/2020/06/25/movies/hamilton-movie-disney-streaming.html\n",
            "/2020/06/25/movies/hamilton-movie-disney-streaming.html\n",
            "/2020/06/24/arts/music/jon-batiste-jazz-protests.html\n",
            "/2020/06/24/arts/music/jon-batiste-jazz-protests.html\n",
            "/2020/06/25/books/coronavirus-publishing-working-from-home.html\n",
            "/2020/06/25/books/coronavirus-publishing-working-from-home.html\n",
            "#after-dfp-ad-mid1-large\n",
            "http://nyt.qualtrics.com/jfe/form/SV_eFJmKj9v0krSE0l\n",
            "https://help.nytimes.com/hc/en-us/articles/115014792127-Copyright-notice\n",
            "https://www.nytco.com/\n",
            "https://help.nytimes.com/hc/en-us/articles/115015385887-Contact-Us\n",
            "https://www.nytco.com/careers/\n",
            "https://nytmediakit.com/\n",
            "http://www.tbrandstudio.com/\n",
            "https://help.nytimes.com/hc/en-us/articles/115014892108-Privacy-policy\n",
            "https://help.nytimes.com/hc/en-us/articles/115014892108-Privacy-policy\n",
            "https://help.nytimes.com/hc/en-us/articles/115014893428-Terms-of-service\n",
            "https://help.nytimes.com/hc/en-us/articles/115014893968-Terms-of-sale\n",
            "https://spiderbites.nytimes.com\n",
            "https://help.nytimes.com/hc/en-us\n",
            "https://www.nytimes.com/subscription?campaignId=37WXW\n"
          ],
          "name": "stdout"
        }
      ]
    },
    {
      "cell_type": "code",
      "metadata": {
        "id": "5IoH4YRw52v5",
        "colab_type": "code",
        "colab": {
          "base_uri": "https://localhost:8080/",
          "height": 34
        },
        "outputId": "2d8a6290-fa0a-4d05-bb21-0c43ea775898"
      },
      "source": [
        "bsoup.p"
      ],
      "execution_count": 10,
      "outputs": [
        {
          "output_type": "execute_result",
          "data": {
            "text/plain": [
              "<p class=\"css-gs67ux e1lfvv700\">The voters President Trump is losing.</p>"
            ]
          },
          "metadata": {
            "tags": []
          },
          "execution_count": 10
        }
      ]
    },
    {
      "cell_type": "code",
      "metadata": {
        "id": "H3KAo7wU6hy3",
        "colab_type": "code",
        "colab": {
          "base_uri": "https://localhost:8080/",
          "height": 34
        },
        "outputId": "a01c7db0-c142-447c-c718-0151bc045ebd"
      },
      "source": [
        "bsoup.p.text"
      ],
      "execution_count": 11,
      "outputs": [
        {
          "output_type": "execute_result",
          "data": {
            "text/plain": [
              "'The voters President Trump is losing.'"
            ]
          },
          "metadata": {
            "tags": []
          },
          "execution_count": 11
        }
      ]
    },
    {
      "cell_type": "code",
      "metadata": {
        "id": "ZowWSr1R6jxz",
        "colab_type": "code",
        "colab": {
          "base_uri": "https://localhost:8080/",
          "height": 666
        },
        "outputId": "168f09fb-7d5e-48f2-beac-fc2c9ad8c61d"
      },
      "source": [
        "bsoup.find_all('p')"
      ],
      "execution_count": 12,
      "outputs": [
        {
          "output_type": "execute_result",
          "data": {
            "text/plain": [
              "[<p class=\"css-gs67ux e1lfvv700\">The voters President Trump is losing.</p>,\n",
              " <p class=\"css-gs67ux e1lfvv700\">Why the middlemen are the internet’s villains.</p>,\n",
              " <p class=\"css-gs67ux e1lfvv700\">André Leon Talley, Claudia Rankine, Jericho Brown and Megha Majumdar.</p>,\n",
              " <p class=\"css-1pfq5u e1lfvv700\">More than two months after the U.S. recorded its worst day of new infections since the start of the pandemic, the nation reported 36,880 new cases.</p>,\n",
              " <p class=\"css-1pfq5u e1lfvv700\">Economists expect 1.3 million new state unemployment claims. The founder of SoftBank is resigning from Alibaba’s board. Here’s the latest.</p>,\n",
              " <p class=\"css-1pfq5u e1lfvv700\">American coronavirus testing remains fragmented, as in the early days of the pandemic. The bottlenecks are the same ones, too.</p>,\n",
              " <p class=\"css-1pfq5u e1lfvv700\">Gov. Greg Abbott was eager to be part of President Trump’s push to restart the economy. He is facing increasing pressure over his decision.</p>,\n",
              " <p class=\"css-1pfq5u e1lfvv700\">A married pair of virologists in Moscow tested a vaccine on their children in the 1950s. Now, a side effect they found is sparking new hope.</p>,\n",
              " <p class=\"svelte-x3bpkf\"><span class=\"state-name svelte-x3bpkf\">Mont.</span></p>,\n",
              " <p class=\"svelte-x3bpkf\"><span class=\"state-name svelte-x3bpkf\">Idaho</span></p>,\n",
              " <p class=\"svelte-x3bpkf\"><span class=\"state-name svelte-x3bpkf\">Okla.</span></p>,\n",
              " <p class=\"svelte-x3bpkf\"><span class=\"state-name svelte-x3bpkf\">Fla.</span></p>,\n",
              " <p class=\"svelte-x3bpkf\"><span class=\"state-name svelte-x3bpkf\">Texas</span></p>,\n",
              " <p class=\"svelte-x3bpkf\"><span class=\"state-name svelte-x3bpkf\">W.Va.</span></p>,\n",
              " <p class=\"svelte-x3bpkf\"><span class=\"state-name svelte-x3bpkf\">Ill.</span></p>,\n",
              " <p class=\"svelte-x3bpkf\"><span class=\"state-name svelte-x3bpkf\">N.J.</span></p>,\n",
              " <p class=\"svelte-x3bpkf\"><span class=\"state-name svelte-x3bpkf\">Mass.</span></p>,\n",
              " <p class=\"svelte-x3bpkf\"><span class=\"state-name svelte-x3bpkf\">Md.</span></p>,\n",
              " <p class=\"svelte-x3bpkf\"><span class=\"state-name svelte-x3bpkf\">N.H.</span></p>,\n",
              " <p class=\"svelte-x3bpkf\"><span class=\"state-name svelte-x3bpkf\">Conn.</span></p>,\n",
              " <p class=\"css-1pfq5u e1lfvv700\">On June 1, SWAT teams turned a protest march in Philadelphia into chaos. We went to the site to reconstruct what happened.</p>,\n",
              " <p class=\"css-1pfq5u e1lfvv700\">The police chief of Tucson, Ariz., offered to step down after a video showed the death of a handcuffed man in April. Three officers have resigned.</p>,\n",
              " <p class=\"css-1pfq5u e1lfvv700\">Although investigators did not find evidence of a hate crime targeting Bubba Wallace, the racing giant has long had complaints of racist behavior.</p>,\n",
              " <p class=\"css-1pfq5u e1lfvv700\">No question the Roosevelt sculpture has to go, our critic writes. But what of the Shaw Memorial in Boston? Eliminate or obscure it, or explain it?</p>,\n",
              " <p class=\"css-1pfq5u e1lfvv700\">Descendants of Robert E. Lee and others whose statues are coming down are confronting this moment’s reassessment of history in a personal way.</p>,\n",
              " <p class=\"css-1pfq5u e1lfvv700\">Joe Biden has a nine-point advantage in six key states, including leads of at least six points in each of them, according to a new survey.</p>,\n",
              " <p class=\"css-1pfq5u e1lfvv700\">A New York Times/Siena College poll paints a grim picture for Republicans in three states as voters shun candidates aligned with President Trump.</p>,\n",
              " <p class=\"css-1pfq5u e1lfvv700\">The lack of race results in New York and Kentucky this week is a prelude for the presidential election.</p>,\n",
              " <p class=\"css-1pfq5u e1lfvv700\">A spike in positive coronavirus tests is prompting universities across college sports to acknowledge how precarious their plans are for a season.</p>,\n",
              " <p class=\"css-1pfq5u e1lfvv700\">Yearbook and high school newspaper editors have spent the past few months trying to preserve traditions upended by the pandemic.</p>,\n",
              " <p class=\"css-1pfq5u e1lfvv700\">The nightly booms, bangs and fizzles have intensified to such a degree that some New York residents are adopting far-fetched theories about their source.</p>,\n",
              " <p class=\"css-1pfq5u e1lfvv700\">“It’s going away” only in the president’s delusion.</p>,\n",
              " <p class=\"css-1pfq5u e1lfvv700\">Recent research indicates little progress since the Truman administration.</p>,\n",
              " <p class=\"css-1pfq5u e1lfvv700\">The film, a live capture of the hit Broadway show, will stream on Disney Plus beginning July 3. That wasn’t always the plan.</p>,\n",
              " <p class=\"css-1pfq5u e1lfvv700\">The pianist and “Late Show” bandleader has been bringing musical wake-up calls to events across New York.</p>,\n",
              " <p class=\"css-1pfq5u e1lfvv700\">You can read or write a book from home just fine. Publishing one, however, remains a very social activity.</p>,\n",
              " <p class=\"css-8ie0it\">We’d like your thoughts on the New York Times home page experience.<a href=\"http://nyt.qualtrics.com/jfe/form/SV_eFJmKj9v0krSE0l\" rel=\"noopener noreferrer\" target=\"_blank\">Let us know what you think</a><svg height=\"11\" viewbox=\"0 0 7 12\" width=\"7\"><path d=\"M1 1l4.333 5L1 11\" fill=\"none\" fill-rule=\"evenodd\" stroke=\"#fff\" stroke-width=\"2\"></path></svg></p>]"
            ]
          },
          "metadata": {
            "tags": []
          },
          "execution_count": 12
        }
      ]
    },
    {
      "cell_type": "code",
      "metadata": {
        "id": "cLIJktzP6rzP",
        "colab_type": "code",
        "colab": {
          "base_uri": "https://localhost:8080/",
          "height": 646
        },
        "outputId": "7cb2bf83-4a2e-41cb-a81a-ab34cf11a337"
      },
      "source": [
        "for p in bsoup.find_all('p'):\n",
        "  print(p.text)"
      ],
      "execution_count": 15,
      "outputs": [
        {
          "output_type": "stream",
          "text": [
            "The voters President Trump is losing.\n",
            "Why the middlemen are the internet’s villains.\n",
            "André Leon Talley, Claudia Rankine, Jericho Brown and Megha Majumdar.\n",
            "More than two months after the U.S. recorded its worst day of new infections since the start of the pandemic, the nation reported 36,880 new cases.\n",
            "Economists expect 1.3 million new state unemployment claims. The founder of SoftBank is resigning from Alibaba’s board. Here’s the latest.\n",
            "American coronavirus testing remains fragmented, as in the early days of the pandemic. The bottlenecks are the same ones, too.\n",
            "Gov. Greg Abbott was eager to be part of President Trump’s push to restart the economy. He is facing increasing pressure over his decision.\n",
            "A married pair of virologists in Moscow tested a vaccine on their children in the 1950s. Now, a side effect they found is sparking new hope.\n",
            "Mont.\n",
            "Idaho\n",
            "Okla.\n",
            "Fla.\n",
            "Texas\n",
            "W.Va.\n",
            "Ill.\n",
            "N.J.\n",
            "Mass.\n",
            "Md.\n",
            "N.H.\n",
            "Conn.\n",
            "On June 1, SWAT teams turned a protest march in Philadelphia into chaos. We went to the site to reconstruct what happened.\n",
            "The police chief of Tucson, Ariz., offered to step down after a video showed the death of a handcuffed man in April. Three officers have resigned.\n",
            "Although investigators did not find evidence of a hate crime targeting Bubba Wallace, the racing giant has long had complaints of racist behavior.\n",
            "No question the Roosevelt sculpture has to go, our critic writes. But what of the Shaw Memorial in Boston? Eliminate or obscure it, or explain it?\n",
            "Descendants of Robert E. Lee and others whose statues are coming down are confronting this moment’s reassessment of history in a personal way.\n",
            "Joe Biden has a nine-point advantage in six key states, including leads of at least six points in each of them, according to a new survey.\n",
            "A New York Times/Siena College poll paints a grim picture for Republicans in three states as voters shun candidates aligned with President Trump.\n",
            "The lack of race results in New York and Kentucky this week is a prelude for the presidential election.\n",
            "A spike in positive coronavirus tests is prompting universities across college sports to acknowledge how precarious their plans are for a season.\n",
            "Yearbook and high school newspaper editors have spent the past few months trying to preserve traditions upended by the pandemic.\n",
            "The nightly booms, bangs and fizzles have intensified to such a degree that some New York residents are adopting far-fetched theories about their source.\n",
            "“It’s going away” only in the president’s delusion.\n",
            "Recent research indicates little progress since the Truman administration.\n",
            "The film, a live capture of the hit Broadway show, will stream on Disney Plus beginning July 3. That wasn’t always the plan.\n",
            "The pianist and “Late Show” bandleader has been bringing musical wake-up calls to events across New York.\n",
            "You can read or write a book from home just fine. Publishing one, however, remains a very social activity.\n",
            "We’d like your thoughts on the New York Times home page experience.Let us know what you think\n"
          ],
          "name": "stdout"
        }
      ]
    },
    {
      "cell_type": "code",
      "metadata": {
        "id": "XQ_wTN_26vkc",
        "colab_type": "code",
        "colab": {}
      },
      "source": [
        "src=urllib.request.urlopen(\"http://www.espn.com/nba/statistics/player/_/stat/assists/sort/avgAssists/\").read()"
      ],
      "execution_count": 16,
      "outputs": []
    },
    {
      "cell_type": "code",
      "metadata": {
        "id": "A4NxXPOw93fC",
        "colab_type": "code",
        "colab": {}
      },
      "source": [
        "bsoup=bs.BeautifulSoup(src,'lxml')"
      ],
      "execution_count": 18,
      "outputs": []
    },
    {
      "cell_type": "code",
      "metadata": {
        "id": "vG-LmkEV98CN",
        "colab_type": "code",
        "colab": {}
      },
      "source": [
        "tbl=bsoup.find('table')"
      ],
      "execution_count": 20,
      "outputs": []
    },
    {
      "cell_type": "code",
      "metadata": {
        "id": "D2aTThS3-Fi6",
        "colab_type": "code",
        "colab": {}
      },
      "source": [
        "tbl_rows=tbl.find_all('tr')"
      ],
      "execution_count": 21,
      "outputs": []
    },
    {
      "cell_type": "code",
      "metadata": {
        "id": "1aRQjpf8-L-u",
        "colab_type": "code",
        "colab": {
          "base_uri": "https://localhost:8080/",
          "height": 884
        },
        "outputId": "44861990-e492-44c1-88a2-d6f4946a751f"
      },
      "source": [
        "for i in tbl_rows:\n",
        "  td=i.find_all('td')\n",
        "  row=[j.text for j in td ]\n",
        "  print(row)"
      ],
      "execution_count": 22,
      "outputs": [
        {
          "output_type": "stream",
          "text": [
            "[]\n",
            "['1', 'James HardenHOU']\n",
            "['2', 'Bradley BealWSH']\n",
            "['3', 'Giannis AntetokounmpoMIL']\n",
            "['4', 'Trae YoungATL']\n",
            "['5', 'Damian LillardPOR']\n",
            "['6', 'Luka DoncicDAL']\n",
            "['7', 'Russell WestbrookHOU']\n",
            "['8', 'Kawhi LeonardLAC']\n",
            "['9', 'Anthony DavisLAL']\n",
            "['10', 'Devin BookerPHX']\n",
            "['11', 'LeBron JamesLAL']\n",
            "['12', 'Zach LaVineCHI']\n",
            "['13', 'Brandon IngramNO']\n",
            "['14', 'Donovan MitchellUTAH']\n",
            "['15', 'Pascal SiakamTOR']\n",
            "['16', 'Jayson TatumBOS']\n",
            "['17', 'CJ McCollumPOR']\n",
            "['18', 'DeMar DeRozanSA']\n",
            "['19', 'Andrew WigginsGS/MIN']\n",
            "['20', 'Kemba WalkerBOS']\n",
            "['21', 'Khris MiddletonMIL']\n",
            "['22', 'Collin SextonCLE']\n",
            "['23', 'Spencer DinwiddieBKN']\n",
            "['24', \"De'Aaron FoxSAC\"]\n",
            "['25', 'Jaylen BrownBOS']\n",
            "['26', 'Jimmy ButlerMIA']\n",
            "['27', 'Bojan BogdanovicUTAH']\n",
            "['28', 'Nikola JokicDEN']\n",
            "['29', 'Buddy HieldSAC']\n",
            "['30', 'Kyle LowryTOR']\n",
            "['31', 'Jrue HolidayNO']\n",
            "['32', 'Julius RandleNY']\n",
            "['33', 'Nikola VucevicORL']\n",
            "['34', 'Tobias HarrisPHI']\n",
            "['35', 'Shai Gilgeous-AlexanderOKC']\n",
            "['36', 'Kristaps PorzingisDAL']\n",
            "['37', 'Danilo GallinariOKC']\n",
            "['38', 'Dennis SchroderOKC']\n",
            "['39', 'LaMarcus AldridgeSA']\n",
            "['40', 'Evan FournierORL']\n",
            "['41', 'Jamal MurrayDEN']\n",
            "['42', 'T.J. WarrenIND']\n",
            "['43', 'Kelly Oubre Jr.PHX']\n",
            "['44', 'Lou WilliamsLAC']\n",
            "['45', 'Montrezl HarrellLAC']\n",
            "['46', 'Domantas SabonisIND']\n",
            "['47', \"Devonte' GrahamCHA\"]\n",
            "['48', 'Derrick RoseDET']\n",
            "['49', 'Terry RozierCHA']\n",
            "['50', 'Andre DrummondCLE/DET']\n"
          ],
          "name": "stdout"
        }
      ]
    },
    {
      "cell_type": "code",
      "metadata": {
        "id": "lzwoG6iW-cN7",
        "colab_type": "code",
        "colab": {
          "base_uri": "https://localhost:8080/",
          "height": 1000
        },
        "outputId": "242b856e-e635-48f3-81df-32ec3bf5e7d9"
      },
      "source": [
        "import pandas as pd\n",
        "data=pd.read_html(\"http://www.espn.com/nba/statistics/player/_/stat/assists/sort/avgAssists/\")\n",
        "for df in data:\n",
        "  print(df)"
      ],
      "execution_count": 23,
      "outputs": [
        {
          "output_type": "stream",
          "text": [
            "    RK                        Name\n",
            "0    1             James HardenHOU\n",
            "1    2             Bradley BealWSH\n",
            "2    3    Giannis AntetokounmpoMIL\n",
            "3    4               Trae YoungATL\n",
            "4    5           Damian LillardPOR\n",
            "5    6              Luka DoncicDAL\n",
            "6    7        Russell WestbrookHOU\n",
            "7    8            Kawhi LeonardLAC\n",
            "8    9            Anthony DavisLAL\n",
            "9   10             Devin BookerPHX\n",
            "10  11             LeBron JamesLAL\n",
            "11  12              Zach LaVineCHI\n",
            "12  13            Brandon IngramNO\n",
            "13  14        Donovan MitchellUTAH\n",
            "14  15            Pascal SiakamTOR\n",
            "15  16             Jayson TatumBOS\n",
            "16  17              CJ McCollumPOR\n",
            "17  18             DeMar DeRozanSA\n",
            "18  19        Andrew WigginsGS/MIN\n",
            "19  20             Kemba WalkerBOS\n",
            "20  21          Khris MiddletonMIL\n",
            "21  22            Collin SextonCLE\n",
            "22  23        Spencer DinwiddieBKN\n",
            "23  24             De'Aaron FoxSAC\n",
            "24  25             Jaylen BrownBOS\n",
            "25  26             Jimmy ButlerMIA\n",
            "26  27        Bojan BogdanovicUTAH\n",
            "27  28             Nikola JokicDEN\n",
            "28  29              Buddy HieldSAC\n",
            "29  30               Kyle LowryTOR\n",
            "30  31              Jrue HolidayNO\n",
            "31  32             Julius RandleNY\n",
            "32  33           Nikola VucevicORL\n",
            "33  34            Tobias HarrisPHI\n",
            "34  35  Shai Gilgeous-AlexanderOKC\n",
            "35  36       Kristaps PorzingisDAL\n",
            "36  37         Danilo GallinariOKC\n",
            "37  38          Dennis SchroderOKC\n",
            "38  39         LaMarcus AldridgeSA\n",
            "39  40            Evan FournierORL\n",
            "40  41             Jamal MurrayDEN\n",
            "41  42              T.J. WarrenIND\n",
            "42  43          Kelly Oubre Jr.PHX\n",
            "43  44             Lou WilliamsLAC\n",
            "44  45         Montrezl HarrellLAC\n",
            "45  46         Domantas SabonisIND\n",
            "46  47          Devonte' GrahamCHA\n",
            "47  48             Derrick RoseDET\n",
            "48  49             Terry RozierCHA\n",
            "49  50       Andre DrummondCLE/DET\n",
            "   POS  GP   MIN   PTS   FGM   FGA   FG%  ...   AST  STL  BLK   TO  DD2  TD3    PER\n",
            "0   SG  61  36.7  34.4   9.9  22.7  43.5  ...   7.4  1.7  0.9  4.5   19    4  28.39\n",
            "1   SG  57  36.0  30.5  10.4  22.9  45.5  ...   6.1  1.2  0.4  3.4    8    0  23.19\n",
            "2   PF  57  30.9  29.6  10.9  20.0  54.7  ...   5.8  1.0  1.0  3.7   52    4  31.71\n",
            "3   PG  60  35.3  29.6   9.1  20.8  43.7  ...   9.3  1.1  0.1  4.8   28    2  23.98\n",
            "4   PG  58  36.9  28.9   9.2  20.0  45.7  ...   7.8  1.0  0.4  2.9   16    1  26.25\n",
            "5   SG  54  33.3  28.7   9.5  20.6  46.1  ...   8.7  1.1  0.2  4.2   34   14  27.75\n",
            "6   PG  53  35.9  27.5  10.7  22.6  47.4  ...   7.0  1.7  0.3  4.5   21    8  21.59\n",
            "7   SF  51  32.2  26.9   9.3  19.9  46.8  ...   5.0  1.8  0.6  2.7   13    1  26.76\n",
            "8   PF  55  34.3  26.7   9.2  18.1  51.1  ...   3.1  1.5  2.4  2.5   27    0  28.25\n",
            "9   SG  62  36.1  26.1   8.8  18.0  48.7  ...   6.6  0.7  0.3  3.9   10    0  19.89\n",
            "10  SF  60  34.9  25.7   9.8  19.6  49.8  ...  10.6  1.2  0.5  4.0   42   13  26.08\n",
            "11  PG  60  34.8  25.5   9.0  20.0  45.0  ...   4.2  1.5  0.5  3.4    2    0  19.55\n",
            "12  SF  56  34.3  24.3   8.4  18.0  46.6  ...   4.3  1.0  0.7  3.1    9    0  19.25\n",
            "13  SG  63  34.4  24.2   8.9  19.6  45.3  ...   4.2  1.0  0.2  2.7    1    0  19.13\n",
            "14  PF  53  35.5  23.6   8.7  18.9  45.9  ...   3.6  1.0  0.9  2.5   12    0  18.76\n",
            "15  PF  59  34.6  23.6   8.5  18.9  44.8  ...   2.9  1.4  0.9  2.2   10    0  20.41\n",
            "16  SG  62  36.0  22.5   8.9  19.5  45.3  ...   4.3  0.7  0.6  1.9    4    0  17.45\n",
            "17  SF  61  34.3  22.2   8.2  15.7  52.6  ...   5.6  1.0  0.2  2.4    6    0  21.40\n",
            "18  SF  54  34.4  21.8   8.1  18.1  44.7  ...   3.7  0.8  1.0  2.4    4    1  16.46\n",
            "19  PG  50  31.8  21.2   7.0  16.6  42.1  ...   4.9  0.9  0.5  2.1    2    0  20.29\n",
            "20  SF  55  30.1  21.1   7.7  15.5  49.9  ...   4.1  0.9  0.1  2.1    5    0  21.50\n",
            "21  PG  65  33.0  20.8   7.9  16.7  47.2  ...   3.0  1.0  0.1  2.4    0    0  16.41\n",
            "22  PG  64  31.2  20.6   6.6  16.0  41.5  ...   6.8  0.6  0.3  2.7    9    0  18.00\n",
            "23  PG  45  31.7  20.4   7.3  15.4  47.5  ...   6.8  1.4  0.5  3.1    8    0  20.40\n",
            "24  SG  50  34.0  20.4   7.6  15.4  49.0  ...   2.2  1.1  0.3  2.3    6    0  17.15\n",
            "25  SF  54  34.3  20.2   6.1  13.4  45.4  ...   6.1  1.7  0.5  2.2   10    3  23.41\n",
            "26  SF  63  33.1  20.2   6.6  14.8  44.7  ...   2.1  0.5  0.1  2.5    0    0  15.77\n",
            "27   C  65  32.3  20.2   7.9  14.9  52.8  ...   6.9  1.2  0.7  3.1   39   12  25.08\n",
            "28  SG  64  32.0  19.8   7.1  16.6  42.9  ...   3.1  0.9  0.3  2.3    2    0  16.37\n",
            "29  PG  52  36.6  19.7   5.9  14.3  41.7  ...   7.7  1.3  0.4  3.0   14    2  17.94\n",
            "30  SG  55  34.9  19.6   7.7  16.9  45.2  ...   6.9  1.7  0.8  2.9   10    1  17.61\n",
            "31  PF  64  32.5  19.5   7.2  15.7  46.0  ...   3.1  0.8  0.3  3.0   30    0  17.57\n",
            "32   C  54  32.6  19.5   7.9  16.9  47.0  ...   3.7  0.9  0.9  1.4   36    0  21.70\n",
            "33  SF  65  34.5  19.4   7.6  16.1  47.2  ...   3.2  0.8  0.5  1.5   10    0  16.83\n",
            "34  SG  63  35.1  19.3   7.0  14.8  47.3  ...   3.3  1.1  0.7  1.9    9    1  17.90\n",
            "35  PF  51  31.3  19.2   6.6  15.8  42.0  ...   1.7  0.7  2.1  1.6   23    0  19.40\n",
            "36  PF  55  30.7  19.2   6.0  13.6  43.9  ...   2.1  0.7  0.1  1.3    3    0  19.47\n",
            "37  PG  63  31.0  19.0   7.0  15.0  46.8  ...   4.1  0.7  0.2  2.5    0    0  16.86\n",
            "38  PF  53  33.1  18.9   7.4  15.0  49.3  ...   2.4  0.7  1.6  1.4   14    0  19.89\n",
            "39  SG  61  31.7  18.8   6.7  14.2  47.0  ...   3.2  1.1  0.2  2.0    0    0  16.76\n",
            "40  PG  55  32.8  18.8   7.0  15.4  45.5  ...   4.8  1.2  0.3  2.3    2    0  17.59\n",
            "41  SF  61  32.5  18.7   7.5  14.2  52.9  ...   1.4  1.1  0.4  1.3    0    0  17.31\n",
            "42  SF  56  34.5  18.7   6.7  14.8  45.2  ...   1.5  1.3  0.7  1.5    9    0  14.98\n",
            "43  SG  60  29.3  18.7   6.1  14.7  41.6  ...   5.7  0.7  0.2  2.9    2    0  17.24\n",
            "44  PF  63  27.8  18.6   7.5  12.9  58.0  ...   1.7  0.6  1.1  1.7   12    0  23.17\n",
            "45  PF  62  34.8  18.5   7.4  13.7  54.0  ...   5.0  0.8  0.5  2.7   50    4  20.80\n",
            "46  PG  63  35.1  18.2   5.8  15.3  38.2  ...   7.5  1.0  0.2  2.9   17    0  15.84\n",
            "47  PG  50  26.0  18.1   7.4  15.1  49.0  ...   5.6  0.8  0.3  2.5    4    0  21.15\n",
            "48  PG  63  34.3  18.0   6.3  14.9  42.3  ...   4.1  1.0  0.2  2.2    2    0  14.93\n",
            "49   C  57  33.0  17.7   7.3  13.8  53.3  ...   2.7  1.9  1.6  3.6   47    0  22.08\n",
            "\n",
            "[50 rows x 21 columns]\n"
          ],
          "name": "stdout"
        }
      ]
    },
    {
      "cell_type": "code",
      "metadata": {
        "id": "w0xy03MB-26L",
        "colab_type": "code",
        "colab": {}
      },
      "source": [
        ""
      ],
      "execution_count": null,
      "outputs": []
    }
  ]
}